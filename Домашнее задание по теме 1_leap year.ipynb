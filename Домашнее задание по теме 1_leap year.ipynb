{
 "cells": [
  {
   "cell_type": "markdown",
   "id": "64d7cb40",
   "metadata": {},
   "source": [
    "**Задание №1.**\n",
    "\n",
    "Напишите код на Python в среде Jupyter Notebook для решения следующей задачи.\n",
    "\n",
    "Дана переменная, в которой хранится четырёхзначное число — год. Необходимо написать программу, которая выведет, является этот год високосным или обычным.\n",
    "\n",
    "Пример работы программы:\n",
    "\n",
    "year = 2024\n",
    "Результат:\n",
    "Високосный год\n",
    "\n",
    "year = 2023\n",
    "Результат:\n",
    "Обычный год"
   ]
  },
  {
   "cell_type": "code",
   "execution_count": null,
   "id": "c93d1a1c",
   "metadata": {},
   "outputs": [],
   "source": [
    "def is_leap_year(year):\n",
    "    if (year % 400 == 0) or (year % 4 == 0 and year % 100 != 0):\n",
    "        print('Високосный год')\n",
    "    else:\n",
    "        print('Обычный год')\n",
    "    \n",
    "    \n",
    "while True:\n",
    "    try:\n",
    "        year = int(input(\"Введите год (целое число больше 0), иначе выход из программы:\"))\n",
    "    except ValueError:\n",
    "        print(\"Конец\")\n",
    "        break\n",
    "    else:\n",
    "        print('Результат:')\n",
    "        if year>0:\n",
    "            is_leap_year(year)\n",
    "        else:\n",
    "            print(\"Введенное число меньше или равно 0\")\n",
    "    finally:\n",
    "        print('======================================')"
   ]
  },
  {
   "cell_type": "markdown",
   "id": "a04e77a2",
   "metadata": {},
   "source": [
    "*Задание №2.*\n",
    "\n",
    "- Написать код на Python в среде Jupyter Notebook для решения следующей задачи.\n",
    "\n",
    "- Дана переменная, в которой хранится шестизначное число — номер проездного билета. Напишите программу, которая будет определять, является ли этот билет счастливым. Билет считается счастливым, если сумма первых трёх цифр совпадает с суммой последних трёх цифр номера.\n",
    "\n",
    "- Примеры работы программы:\n",
    "\n",
    "number = 123456\n",
    "Результат:\n",
    "Несчастливый билет\n",
    "\n",
    "number = 123321\n",
    "Результат:\n",
    "Счастливый билет"
   ]
  },
  {
   "cell_type": "code",
   "execution_count": null,
   "id": "52f01b43",
   "metadata": {
    "scrolled": true
   },
   "outputs": [],
   "source": [
    "while True:\n",
    "    num = input('Введите шестизначное число, иначе выход из программы')\n",
    "    if len(num) == 6:\n",
    "        try:\n",
    "            if int(num[0]) + int(num[1]) + int(num[2]) == int(num[3]) + int(num[4]) + int(num[5]):\n",
    "                print('Счастливый билет')\n",
    "            else:\n",
    "                print('Несчастливый билет')\n",
    "        except:\n",
    "            print('Вы ввели не число. Выход из программы')\n",
    "            break\n",
    "    else:\n",
    "        print(\"Количество символов больше 6. Выход из программы\")\n",
    "        break"
   ]
  }
 ],
 "metadata": {
  "kernelspec": {
   "display_name": "Python 3 (ipykernel)",
   "language": "python",
   "name": "python3"
  },
  "language_info": {
   "codemirror_mode": {
    "name": "ipython",
    "version": 3
   },
   "file_extension": ".py",
   "mimetype": "text/x-python",
   "name": "python",
   "nbconvert_exporter": "python",
   "pygments_lexer": "ipython3",
   "version": "3.9.12"
  },
  "toc": {
   "base_numbering": 1,
   "nav_menu": {},
   "number_sections": true,
   "sideBar": true,
   "skip_h1_title": false,
   "title_cell": "Table of Contents",
   "title_sidebar": "Contents",
   "toc_cell": false,
   "toc_position": {},
   "toc_section_display": true,
   "toc_window_display": false
  }
 },
 "nbformat": 4,
 "nbformat_minor": 5
}
